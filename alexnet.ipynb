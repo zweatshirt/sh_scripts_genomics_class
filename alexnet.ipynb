{
 "cells": [
  {
   "cell_type": "code",
   "execution_count": 112,
   "metadata": {},
   "outputs": [],
   "source": [
    "import torch\n",
    "import torchvision\n",
    "import torchvision.datasets as datasets\n",
    "import torchvision.transforms as transforms\n",
    "import torch.optim as optim\n",
    "import torch.nn as nn\n",
    "import torch.nn.functional as F\n",
    "#import matplotlib.pyplot as plt\n",
    "import numpy as np"
   ]
  },
  {
   "cell_type": "code",
   "execution_count": 113,
   "metadata": {},
   "outputs": [
    {
     "name": "stdout",
     "output_type": "stream",
     "text": [
      "cpu\n"
     ]
    }
   ],
   "source": [
    "device=torch.device('cuda' if torch.cuda.is_available() else 'cpu')\n",
    "print(device)\n",
    "\n",
    "if device.type == 'cuda':\n",
    "    print(torch.cuda.get_device_name(0))"
   ]
  },
  {
   "cell_type": "code",
   "execution_count": 114,
   "metadata": {},
   "outputs": [
    {
     "data": {
      "text/plain": [
       "device(type='cpu')"
      ]
     },
     "execution_count": 114,
     "metadata": {},
     "output_type": "execute_result"
    }
   ],
   "source": [
    "CLASSES = 10\n",
    "device = torch.device('cuda' if torch.cuda.is_available() else 'cpu')\n",
    "device"
   ]
  },
  {
   "cell_type": "code",
   "execution_count": 115,
   "metadata": {},
   "outputs": [],
   "source": [
    "class Net(nn.Module):\n",
    "    \n",
    "    def __init__(self):\n",
    "        \n",
    "        super().__init__()\n",
    "\n",
    "        # Apply local response norm to layer 3\n",
    "        self.local_response = nn.LocalResponseNorm(size=5, alpha=0.0001, beta=0.75, k=2)\n",
    "        \n",
    "        # Layer1:\n",
    "        # 1. Input will be 1 channel i.e grayscale images\n",
    "        # 2. Apply 96 kernels, of kernel size 11, stride of 4 and padding of 0\n",
    "        # 3. Apply activation function ReLU\n",
    "        self.conv1 = nn.Conv2d(in_channels=1, out_channels=96, kernel_size=11, stride=4, padding=0)\n",
    "        # no pooling in layer 1\n",
    "        # self.pool1 = nn.MaxPool2d(kernel_size=3,stride=2)\n",
    "\n",
    "        # Layer2:\n",
    "        # 1. Apply 96 kernels, kernel size 1\n",
    "        # 2. Apply activation function ReLU\n",
    "        self.conv2 = nn.Conv2d(in_channels=96, out_channels=96, kernel_size=1, padding=2)\n",
    "        #self.local_response2=nn.LocalResponseNorm(size=5,alpha=0.0001,beta=0.75,k=2)\n",
    "\n",
    "        # Layer3:\n",
    "        # 1. Apply 96 kernel, kernel size 1\n",
    "        # 2. Apply activation function ReLU\n",
    "        # 3. Do a maxpool2d, kernel size of 3 and stride2\n",
    "        # 4. Dropout of 0.5\n",
    "        self.conv3 = nn.Conv2d(in_channels=96, out_channels=96, kernel_size=1, stride=1, padding=0)\n",
    "        self.pool_layer3 = nn.MaxPool2d(kernel_size=3, stride=2)\n",
    "\n",
    "        # Layer4:\n",
    "        # 1. Apply 256 kernel (hint the input to this conv2d layer is still 96)\n",
    "        # of size 11, stride 4 and padding 2\n",
    "        # 2. Apply activation function ReLU\n",
    "        self.conv4=nn.Conv2d(in_channels=96, out_channels=256, kernel_size=11, stride=4, padding=2)\n",
    "\n",
    "\n",
    "        # Layer5:\n",
    "        # 1. Apply 256 kernels, kernel size of 1\n",
    "        # 2. Apply activation function ReLU\n",
    "        self.conv5=nn.Conv2d(in_channels=256, out_channels=256, kernel_size=1, stride=1)\n",
    "\n",
    "        # Layer6:\n",
    "        # 1. Apply 256 kernels, kernel size of 1\n",
    "        # 2. Apply activation function ReLU\n",
    "        # 3. Maxpool2d, kernel size of 3 and stride of 2.\n",
    "        # 4. Dropout of 0.5\n",
    "        self.conv6=nn.Conv2d(in_channels=256, out_channels=384, kernel_size=1, stride=1)\n",
    "        self.pool_layer6=nn.MaxPool2d(kernel_size=3, stride=2)\n",
    "        # self.dropout_layer6 = nn.Dropout(p=.5)\n",
    "        \n",
    "        # Layer7:\n",
    "        # 1. Apply 384 kernels of size 3, stride of 1 and padding of 1\n",
    "        # 2. Apply activation function ReLU\n",
    "        self.conv7=nn.Conv2d(in_channels=384, out_channels=384, kernel_size=3, stride=1, padding=1)\n",
    "\n",
    "        # Layer8:\n",
    "        # 1. Apply 384 kernels of size 1\n",
    "        # 2. Apply activation function ReLU\n",
    "        self.conv8=nn.Conv2d(in_channels=384, out_channels=384, kernel_size=1, stride=1)\n",
    "\n",
    "        # Layer 9:\n",
    "        # Apply 384 kernels of size 1\n",
    "        # Apply activation function ReLU\n",
    "        # Dropout of 0.5\n",
    "        self.conv9=nn.Conv2d(in_channels=384, out_channels=10, kernel_size=1)\n",
    "    \n",
    "        # 1. Apply 10 kernel (hint the input to this layer is 384) of kernel size 3, stride of 1 and padding of 1\n",
    "        # 2. Apply activation function ReLU\n",
    "        self.conv10=nn.Conv2d(in_channels=10, out_channels=10, kernel_size=3, stride=1, padding=1)\n",
    "\n",
    "        # Layer 11:\n",
    "        # 1. Apply 10 kernels of kernel size 1\n",
    "        # 2. Apply activation function ReLU\n",
    "        self.conv11=nn.Conv2d(in_channels=10, out_channels=10, kernel_size=1, stride=1)\n",
    "    \n",
    "        # Layer 12:\n",
    "        # 1. Apply 10 kernels of kernel size 1\n",
    "        # 2. Apply activation function ReLU\n",
    "        # 3. Finally apply nn.AdaptiveAvgPool2d((1, 1)) to the final output.\n",
    "        self.conv12=nn.Conv2d(in_channels=10, out_channels=10, kernel_size=1, stride=1)\n",
    "        self.adapt_avg_pool=nn.AdaptiveAvgPool2d((1, 1))\n",
    "    \n",
    "        # self.fc1 = nn.Linear(in_features=(256*5*5),out_features=4096)\n",
    "        # self.fc2 = nn.Linear(in_features=4096,out_features=4096)\n",
    "        # self.fc3 = nn.Linear(in_features=4096,out_features=CLASSES)\n",
    "\n",
    "        \n",
    "    def forward(self, x):\n",
    "        \n",
    "        # apply ReLU to layer 1\n",
    "        x = F.relu(self.conv1(x))\n",
    "\n",
    "        # apply ReLU to layer 2\n",
    "        x = F.relu(self.conv2(x))\n",
    "\n",
    "        # dropout of .5 applied to pooled and ReLU'd convolution 3 (layer 3)\n",
    "        x = self.pool_layer3(F.relu(self.local_response(self.conv3(x))))\n",
    "        x = F.dropout(x, .5)\n",
    "\n",
    "        # apply ReLU to layer 4\n",
    "        x = F.relu(self.conv4(x))\n",
    "\n",
    "        # apply ReLU to layer 5\n",
    "        x = F.relu(self.conv5(x))\n",
    "\n",
    "        # dropout of .5 applied to pooled and ReLU'd convolution 6 (layer 6)\n",
    "        x = self.pool_layer6(F.relu(self.local_response(self.conv6(x))))\n",
    "        x = F.dropout(x, .5)\n",
    "\n",
    "        # apply ReLU to layer 7\n",
    "        x = F.relu(self.conv7(x))\n",
    "\n",
    "        # apply ReLU to layer 8\n",
    "        x = F.relu(self.conv8(x))\n",
    "\n",
    "        # dropout of .5 and ReLU applied to layer 9\n",
    "        x = F.relu(self.conv9(x))\n",
    "        x = F.dropout(x, .5)\n",
    "\n",
    "        # apply ReLU to layer 10\n",
    "        x = F.relu(self.conv10(x))\n",
    "\n",
    "        # apply ReLU to layer 11\n",
    "        x = F.relu(self.conv11(x))\n",
    "\n",
    "        # apply ReLU to layer 12\n",
    "        x = F.relu(self.conv12(x))\n",
    "\n",
    "        x = self.adapt_avg_pool(self.conv12(x))\n",
    "        # Ignore:\n",
    "        # x = self.pool1(F.relu(self.local_response1(self.conv1(x))))\n",
    "      \n",
    "        x = torch.flatten(x, 1) # flatten all dimensions except batch\n",
    "                             \n",
    "        # x = F.relu(self.fc1(x))\n",
    "        # x = F.dropout(x, 0.5)\n",
    "        # x = F.relu(self.fc2(x))\n",
    "        # x = F.dropout(x, 0.5)\n",
    "        # x = self.fc3(x)\n",
    "                             \n",
    "        return x"
   ]
  },
  {
   "cell_type": "code",
   "execution_count": 116,
   "metadata": {},
   "outputs": [],
   "source": [
    "transform_conf = transforms.Compose([\n",
    "    transforms.Resize((227,227)),\n",
    "    transforms.ToTensor(),\n",
    "    transforms.Normalize((0.1307,),(0.3081,))\n",
    "])"
   ]
  },
  {
   "cell_type": "code",
   "execution_count": 117,
   "metadata": {},
   "outputs": [],
   "source": [
    "BATCH_SIZE = 16\n",
    "train_dataset = datasets.MNIST('/users/zlinsco/data',train=True,download=True,transform=transform_conf)\n",
    "test_dataset = datasets.MNIST('/users/zlinsco/data',train=False,download=True,transform=transform_conf)"
   ]
  },
  {
   "cell_type": "code",
   "execution_count": 118,
   "metadata": {},
   "outputs": [],
   "source": [
    "train_loader = torch.utils.data.DataLoader(train_dataset,batch_size=BATCH_SIZE,shuffle=True)\n",
    "test_loader = torch.utils.data.DataLoader(test_dataset,batch_size=BATCH_SIZE,shuffle=True)"
   ]
  },
  {
   "cell_type": "code",
   "execution_count": 119,
   "metadata": {},
   "outputs": [],
   "source": [
    "model = Net().to(device)\n",
    "optimizer = optim.Adam(params=model.parameters(),lr=0.0001)\n",
    "loss_fn = nn.CrossEntropyLoss()"
   ]
  },
  {
   "cell_type": "code",
   "execution_count": 120,
   "metadata": {},
   "outputs": [],
   "source": [
    "def train(model,device,train_loader,optimizer,epochs):\n",
    "    \n",
    "    print(\"inside train\")\n",
    "    \n",
    "    model.train()\n",
    "    \n",
    "    for batch_ids, (img, classes) in enumerate(train_loader):\n",
    "        \n",
    "        classes = classes.type(torch.LongTensor)\n",
    "        img,classes = img.to(device),classes.to(device)\n",
    "        torch.autograd.set_detect_anomaly(True)     \n",
    "        optimizer.zero_grad()\n",
    "        output = model(img)\n",
    "        loss = loss_fn(output,classes)                \n",
    "        \n",
    "        loss.backward()\n",
    "        optimizer.step()\n",
    "        \n",
    "    if(batch_ids +1) % 2 == 0:\n",
    "        print(\"Train Epoch: {} [{}/{} ({:.0f}%)]\\tLoss: {:.6f}\".format(\n",
    "            epochs, batch_ids * len(img), len(train_loader.dataset),\n",
    "            100. * batch_ids / len(train_loader), loss.item()))"
   ]
  },
  {
   "cell_type": "code",
   "execution_count": 121,
   "metadata": {},
   "outputs": [],
   "source": [
    "def test(model, device, test_loader):\n",
    "    \n",
    "    model.eval()\n",
    "    test_loss=0\n",
    "    correct=0\n",
    "    \n",
    "    with torch.no_grad():\n",
    "        for img, classes in test_loader:\n",
    "            img, classes = img.to(device), classes.to(device)\n",
    "            y_hat = model(img)\n",
    "            test_loss += F.nll_loss(y_hat,classes,reduction='sum').item()\n",
    "            _,y_pred = torch.max(y_hat,1)\n",
    "            correct += (y_pred == classes).sum().item()\n",
    "        test_loss/=len(test_dataset)\n",
    "        print(\"\\n Test set: Avarage loss: {:.0f},Accuracy:{}/{} ({:.0f}%)\\n\".format(\n",
    "            test_loss,correct,len(test_dataset),100.*correct/len(test_dataset)))\n",
    "        print('='*30)"
   ]
  },
  {
   "cell_type": "code",
   "execution_count": null,
   "metadata": {},
   "outputs": [
    {
     "name": "stdout",
     "output_type": "stream",
     "text": [
      "inside train\n"
     ]
    }
   ],
   "source": [
    "if __name__=='__main__':\n",
    "    seed=42\n",
    "    EPOCHS=1\n",
    "    \n",
    "    for epoch in range(1,EPOCHS+1):\n",
    "        train(model,device,train_loader,optimizer,epoch)\n",
    "        test(model,device,test_loader)"
   ]
  },
  {
   "cell_type": "code",
   "execution_count": null,
   "metadata": {},
   "outputs": [],
   "source": []
  }
 ],
 "metadata": {
  "kernelspec": {
   "display_name": "Python 3 (ipykernel)",
   "language": "python",
   "name": "python3"
  },
  "language_info": {
   "codemirror_mode": {
    "name": "ipython",
    "version": 3
   },
   "file_extension": ".py",
   "mimetype": "text/x-python",
   "name": "python",
   "nbconvert_exporter": "python",
   "pygments_lexer": "ipython3",
   "version": "3.9.18"
  }
 },
 "nbformat": 4,
 "nbformat_minor": 2
}
